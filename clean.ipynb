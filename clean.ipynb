{
 "cells": [
  {
   "cell_type": "code",
   "execution_count": 1,
   "id": "0295e715",
   "metadata": {},
   "outputs": [
    {
     "name": "stdout",
     "output_type": "stream",
     "text": [
      "1164898\n"
     ]
    }
   ],
   "source": [
    "with open('datasets/pretrain.txt','r') as f:\n",
    "    data = f.readlines()\n",
    "    \n",
    "print(len(data))\n"
   ]
  },
  {
   "cell_type": "code",
   "execution_count": 5,
   "id": "cbecb45a",
   "metadata": {},
   "outputs": [
    {
     "name": "stdout",
     "output_type": "stream",
     "text": [
      "The reference interval values of FPG in the longevity were as follows: desirable levels &lt;6.15 mmol/L, borderline levels 6.15-7.45 mmol/L, high levels ≥7.45 mmol/L. Reference interval values of systolic blood pressure (SBP) were as follows: desirable levels &lt;160.00 mmHg, borderline levels 160.00-174.50 mmHg, high levels ≥175.00 mmHg. DBP reference interval values were as follows: desirable levels &lt;88.00 mmHg, borderline levels 88.00-90.00 mmHg, high levels ≥90.00 mmHg. TC reference interval values were as follows: desirable levels &lt;5.59 mmol/L, borderline levels 5.59-6.45 mmol/L, high levels ≥6.45 mmol/L. LDL-C reference interval values were as follows: desirable levels &lt;3.30 mmol/L, borderline levels 3.30-3.85 mmol/L, high levels ≥3.85 mmol/L. TG reference interval values were as follows: desirable levels &lt;2.82 mmol/L, high levels ≥2.82 mmol/L. HDL-C reference interval values were as follows: low levels &lt;0.80 mmol/L, desirable levels ≥0.80 mmol/L.\n",
      "\n",
      "Gestational diabetes mellitus (GDM), one of the most common complications during pregnancy, is associated with a high risk of short- and long-term adverse effects on the mother and offspring. Placenta-derived hormones and cytokines aggravate maternal insulin resistance (IR) during pregnancy, which in turn contribute to GDM. The hyperglycemia and IR in GDM result in aberrant placental structure and function adversely affecting fetal growth and well-being. Therefore, it is reasonable to assume that structural and functional alterations in the placenta contribute to the pathogenesis of GDM and GDM-related complications. Increasing evidence suggests that multiple non-coding RNAs (ncRNAs), including microRNAs, long non-coding RNAs, and circular RNAs, are dysregulated in placentas of patients with GDM and linked to abnormal placental structure, metabolism, and function. Manipulation of ncRNA expression led to some key pathophysiological features of GDM, such as trophoblast dysfunction, changes in intracellular glucose metabolism, and inflammation. Moreover, placenta-specific ncRNAs may be potential diagnostic biomarkers and even therapeutic targets for GDM. This review summarizes data published on the involvement of aberrantly expressed placental ncRNAs in GDM and provides information on their role in the pathogenesis of GDM and GDM-associated complications.\n",
      "\n"
     ]
    }
   ],
   "source": [
    "print(data[0])\n",
    "print(data[1])"
   ]
  },
  {
   "cell_type": "code",
   "execution_count": 13,
   "id": "d655d4a4",
   "metadata": {},
   "outputs": [
    {
     "name": "stdout",
     "output_type": "stream",
     "text": [
      "{'&lt;88.00', '≥175.00', '≥3.85', '≥7.45', 'TC', 'low', 'mmol/L.\\n', 'FPG', 'HDL-C', 'The', '(SBP)', 'borderline', 'in', 'of', 'mmol/L.', '160.00-174.50', 'longevity', 'Reference', '&lt;0.80', 'DBP', '&lt;3.30', 'high', '3.30-3.85', '&lt;5.59', 'mmHg.', 'levels', 'desirable', 'the', 'pressure', 'LDL-C', 'follows:', '88.00-90.00', '&lt;2.82', '5.59-6.45', 'as', 'values', 'were', 'reference', 'TG', '&lt;160.00', '≥90.00', 'interval', '&lt;6.15', 'mmol/L,', 'mmHg,', 'systolic', '≥0.80', '≥6.45', 'blood', '6.15-7.45', '≥2.82'}\n"
     ]
    }
   ],
   "source": [
    "print(set(data[0].split(' ')))"
   ]
  },
  {
   "cell_type": "code",
   "execution_count": 24,
   "id": "13daf239",
   "metadata": {},
   "outputs": [],
   "source": [
    "up_data = []\n",
    "\n",
    "for i in range(len(data)):\n",
    "    l = len(set(data[i].split(' ')))\n",
    "    if l > 64:\n",
    "        up_data.append(data[i])"
   ]
  },
  {
   "cell_type": "code",
   "execution_count": 25,
   "id": "cbbc01fd",
   "metadata": {},
   "outputs": [
    {
     "name": "stdout",
     "output_type": "stream",
     "text": [
      "Gestational diabetes mellitus (GDM), one of the most common complications during pregnancy, is associated with a high risk of short- and long-term adverse effects on the mother and offspring. Placenta-derived hormones and cytokines aggravate maternal insulin resistance (IR) during pregnancy, which in turn contribute to GDM. The hyperglycemia and IR in GDM result in aberrant placental structure and function adversely affecting fetal growth and well-being. Therefore, it is reasonable to assume that structural and functional alterations in the placenta contribute to the pathogenesis of GDM and GDM-related complications. Increasing evidence suggests that multiple non-coding RNAs (ncRNAs), including microRNAs, long non-coding RNAs, and circular RNAs, are dysregulated in placentas of patients with GDM and linked to abnormal placental structure, metabolism, and function. Manipulation of ncRNA expression led to some key pathophysiological features of GDM, such as trophoblast dysfunction, changes in intracellular glucose metabolism, and inflammation. Moreover, placenta-specific ncRNAs may be potential diagnostic biomarkers and even therapeutic targets for GDM. This review summarizes data published on the involvement of aberrantly expressed placental ncRNAs in GDM and provides information on their role in the pathogenesis of GDM and GDM-associated complications.\n",
      "\n",
      "1163625\n"
     ]
    }
   ],
   "source": [
    "print(up_data[0])\n",
    "print(len(up_data))"
   ]
  },
  {
   "cell_type": "code",
   "execution_count": 26,
   "id": "43c2db6e",
   "metadata": {},
   "outputs": [],
   "source": [
    "with open('datasets/pretrain_clean.txt','w') as f:\n",
    "    for i in up_data:\n",
    "        f.write(i)"
   ]
  }
 ],
 "metadata": {
  "kernelspec": {
   "display_name": "Python 3 (ipykernel)",
   "language": "python",
   "name": "python3"
  },
  "language_info": {
   "codemirror_mode": {
    "name": "ipython",
    "version": 3
   },
   "file_extension": ".py",
   "mimetype": "text/x-python",
   "name": "python",
   "nbconvert_exporter": "python",
   "pygments_lexer": "ipython3",
   "version": "3.8.12"
  }
 },
 "nbformat": 4,
 "nbformat_minor": 5
}
